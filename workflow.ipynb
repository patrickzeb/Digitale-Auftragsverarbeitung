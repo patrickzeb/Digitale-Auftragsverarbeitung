{
  "cells": [
    {
      "metadata": {
        "trusted": true
      },
      "cell_type": "code",
      "source": "# !pip install google\n# !pip install google-cloud\n# !pip install --upgrade protobuf\n# !pip install --upgrade requests\n# !pip install google-cloud-vision\n# !pip install pyasn1-modules",
      "execution_count": null,
      "outputs": []
    },
    {
      "metadata": {
        "pycharm": {
          "name": "#%%\n",
          "is_executing": false
        },
        "trusted": true
      },
      "cell_type": "code",
      "source": "from IPython.display import HTML\n\n# HTML('''<script> $('div.input').hide()''')\n",
      "execution_count": null,
      "outputs": []
    },
    {
      "metadata": {
        "pycharm": {
          "name": "#%% md\n"
        }
      },
      "cell_type": "markdown",
      "source": "<html> <head> </head> <body> <img src=\"./jupyter/zeb_logo.png\" width=\"100\"> </body> </html>\n\n## zeb.Digitale Auftragsverarbeitung\n"
    },
    {
      "metadata": {
        "pycharm": {
          "is_executing": true,
          "name": "#%% md\n"
        }
      },
      "cell_type": "markdown",
      "source": "### Auswahl Antrag und Dokumente\n"
    },
    {
      "metadata": {
        "pycharm": {
          "name": "#%%\n",
          "is_executing": false
        },
        "trusted": true
      },
      "cell_type": "code",
      "source": "from app.widget.widget import open_applications, documents_list\n\ndropdownA, applications = open_applications()\ndropdownB, uploaded = documents_list()\n",
      "execution_count": null,
      "outputs": []
    },
    {
      "metadata": {
        "trusted": true
      },
      "cell_type": "code",
      "source": "import json\n\nprint(dropdownA)\nprint(json.dumps(applications, indent=2))",
      "execution_count": null,
      "outputs": []
    },
    {
      "metadata": {
        "pycharm": {
          "is_executing": false,
          "name": "#%% md\n"
        }
      },
      "cell_type": "markdown",
      "source": "### Übermittelte Unterlagen\n"
    },
    {
      "metadata": {
        "pycharm": {
          "is_executing": false
        },
        "trusted": true
      },
      "cell_type": "code",
      "source": "from app.inform.applicant import show_application, show_documents\n\napplication = dropdownA.value\ndocuments = dropdownB.value\n\nshow_application(application)\nshow_documents(documents)\n",
      "execution_count": null,
      "outputs": []
    },
    {
      "metadata": {
        "trusted": true
      },
      "cell_type": "code",
      "source": "from app.decide.document import map_to_application\nfrom app.extract.information import extract_info\n\napplication = dropdownA.value\nfiles = dropdownB.value\n\n# application = applications[product]\nfile_list = uploaded[files]\n\nextracted_info = extract_info(file_list)\n\nrequired, missing = map_to_application(extracted_info, application)\n\n# print(extracted_info)\n",
      "execution_count": null,
      "outputs": []
    },
    {
      "metadata": {
        "pycharm": {
          "is_executing": false,
          "name": "#%% md\n"
        }
      },
      "cell_type": "markdown",
      "source": "### Fachlich - Vollständigkeit der Dokumente\n"
    },
    {
      "metadata": {
        "pycharm": {
          "is_executing": false,
          "name": "#%%\n"
        },
        "trusted": true
      },
      "cell_type": "code",
      "source": "from app.inform.applicant import doc_checklist, show_ampel\n\ncomplete = doc_checklist(extracted_info, missing)\n\nshow_ampel(1 if complete else 3)\n",
      "execution_count": null,
      "outputs": []
    },
    {
      "metadata": {
        "pycharm": {
          "name": "#%% md\n"
        }
      },
      "cell_type": "markdown",
      "source": "### Inhaltlich - Vollständigkeit der Datenfelder\n"
    },
    {
      "metadata": {
        "pycharm": {
          "name": "#%%\n"
        },
        "trusted": true
      },
      "cell_type": "code",
      "source": "from app.inform.applicant import show_information, show_ampel\n\ncomplete = show_information(extracted_info, application)\n\nshow_ampel(1 if complete else 3)\n",
      "execution_count": null,
      "outputs": []
    },
    {
      "metadata": {
        "pycharm": {
          "name": "#%% md\n"
        }
      },
      "cell_type": "markdown",
      "source": "### Inhaltlich - Prüfung der Informationen auf Konsistenz und gegen antragsunabhängige Kriterien\n"
    },
    {
      "metadata": {
        "trusted": true
      },
      "cell_type": "code",
      "source": "from app.decide.information import plausible\nfrom app.inform.applicant import show_ampel\n\ncomplete = plausible(extracted_info)\n\nshow_ampel(1 if complete else 3)\n",
      "execution_count": null,
      "outputs": []
    },
    {
      "metadata": {
        "pycharm": {
          "name": "#%% md\n"
        }
      },
      "cell_type": "markdown",
      "source": "### Inhaltlich - Abgleich der Unterschrift\n"
    },
    {
      "metadata": {
        "pycharm": {
          "name": "#%%\n"
        },
        "trusted": true
      },
      "cell_type": "code",
      "source": "from app.extract.information import extract_signature\nfrom app.inform.applicant import show_ampel\n\n# Bestimmung einer Unterschriftenposition in Dokument und Vergleich Ähnlichkeit der Unterschriften zwischen den Dokumenten\nprobability = extract_signature(extracted_info, dropdownA.value, dropdownB.value)\n\nshow_ampel(1 if probability > 0.95 else 2 if probability > 0.85 else 3)\n",
      "execution_count": null,
      "outputs": []
    },
    {
      "metadata": {
        "pycharm": {
          "name": "#%% md\n"
        }
      },
      "cell_type": "markdown",
      "source": "### Fachlich - Prüfung antragsspezifischer Kriterien\n"
    },
    {
      "metadata": {
        "pycharm": {
          "name": "#%%\n"
        },
        "trusted": true
      },
      "cell_type": "code",
      "source": "from app.decide.information import validate\nfrom app.inform.applicant import show_ampel\n\ncomplete = validate(application, extracted_info)\nshow_ampel(1 if complete else 3)\n",
      "execution_count": null,
      "outputs": []
    },
    {
      "metadata": {
        "trusted": true
      },
      "cell_type": "code",
      "source": "",
      "execution_count": null,
      "outputs": []
    }
  ],
  "metadata": {
    "celltoolbar": "Raw Cell Format",
    "kernelspec": {
      "name": "python36",
      "display_name": "Python 3.6",
      "language": "python"
    },
    "language_info": {
      "mimetype": "text/x-python",
      "nbconvert_exporter": "python",
      "name": "python",
      "pygments_lexer": "ipython3",
      "version": "3.6.6",
      "file_extension": ".py",
      "codemirror_mode": {
        "version": 3,
        "name": "ipython"
      }
    },
    "pycharm": {
      "stem_cell": {
        "cell_type": "raw",
        "source": [],
        "metadata": {
          "collapsed": false
        }
      }
    }
  },
  "nbformat": 4,
  "nbformat_minor": 1
}