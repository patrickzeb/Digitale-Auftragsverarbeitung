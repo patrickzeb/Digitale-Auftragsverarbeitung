{
 "cells": [
  {
   "cell_type": "markdown",
   "metadata": {},
   "source": [
    "<html>\n",
    "    <head>\n",
    "    </head>\n",
    "    <body>\n",
    "        <img src=\"./jupyter/logo.png\" width=\"500\">\n",
    "    </body>\n",
    "</html>"
   ]
  },
  {
   "cell_type": "code",
   "execution_count": 1,
   "metadata": {},
   "outputs": [
    {
     "name": "stdout",
     "output_type": "stream",
     "text": [
      "Bitte wähle einen offenen Antrag aus:\n"
     ]
    },
    {
     "data": {
      "application/vnd.jupyter.widget-view+json": {
       "model_id": "aa6a61ec1ffe492dabb8b0eb57c982bf",
       "version_major": 2,
       "version_minor": 0
      },
      "text/html": [
       "<p>Failed to display Jupyter Widget of type <code>Dropdown</code>.</p>\n",
       "<p>\n",
       "  If you're reading this message in the Jupyter Notebook or JupyterLab Notebook, it may mean\n",
       "  that the widgets JavaScript is still loading. If this message persists, it\n",
       "  likely means that the widgets JavaScript library is either not installed or\n",
       "  not enabled. See the <a href=\"https://ipywidgets.readthedocs.io/en/stable/user_install.html\">Jupyter\n",
       "  Widgets Documentation</a> for setup instructions.\n",
       "</p>\n",
       "<p>\n",
       "  If you're reading this message in another frontend (for example, a static\n",
       "  rendering on GitHub or <a href=\"https://nbviewer.jupyter.org/\">NBViewer</a>),\n",
       "  it may mean that your frontend doesn't currently support widgets.\n",
       "</p>\n"
      ],
      "text/plain": [
       "Dropdown(description='Antrag:', options=(('Blanko - Ursula Müller', 'Blanko'), ('Dinglich - Ursula Müller', 'Dinglich')), value='Blanko')"
      ]
     },
     "metadata": {},
     "output_type": "display_data"
    }
   ],
   "source": [
    "import json\n",
    "\n",
    "from app.widget.widget import select_application\n",
    "\n",
    "# Lade alle offenen Darlehensanträge\n",
    "applications = json.load(open('./app/config/application.json', encoding='utf-8'))\n",
    "\n",
    "# Zeige diese in einer Dropdown-Auswahlliste an\n",
    "dropdown = select_application(applications)\n"
   ]
  },
  {
   "cell_type": "code",
   "execution_count": null,
   "metadata": {},
   "outputs": [],
   "source": [
    "from app.inform.system import files_uploaded\n",
    "\n",
    "# Identifiziere aktuelle Dropdown-Auswahl\n",
    "product = dropdown.value\n",
    "\n",
    "# Identifiziere den dazugehörigen Darlehensantrag\n",
    "application = applications[product]\n",
    "\n",
    "# Identifiziere alle vom Kundenberater übermittelten Dokumente\n",
    "files = ['./upload/1.jpg', './upload/2.jpg', './upload/3.jpg', './upload/4.jpg', './upload/5.jpg']\n",
    "\n",
    "# Systeminformation, wenn erfolgreich\n",
    "files_uploaded(files, product)\n"
   ]
  },
  {
   "cell_type": "code",
   "execution_count": 11,
   "metadata": {},
   "outputs": [
    {
     "name": "stdout",
     "output_type": "stream",
     "text": [
      "SYSTEMNACHRICHT:\n",
      "Die 4 Unterlagen wurden eingelesen.\n"
     ]
    }
   ],
   "source": [
    "from app.extract.document import text_detection\n",
    "from app.inform.system import documents_extracted\n",
    "\n",
    "# Extrahiere den Text aus den übermittelten Dokumenten\n",
    "documents = [text_detection(file) for file in files]\n",
    "\n",
    "# Systeminformation, wenn erfolgreich\n",
    "documents_extracted(documents)\n"
   ]
  },
  {
   "cell_type": "code",
   "execution_count": 12,
   "metadata": {},
   "outputs": [
    {
     "ename": "AttributeError",
     "evalue": "'dict' object has no attribute 'text'",
     "output_type": "error",
     "traceback": [
      "\u001b[1;31m---------------------------------------------------------------------------\u001b[0m",
      "\u001b[1;31mAttributeError\u001b[0m                            Traceback (most recent call last)",
      "\u001b[1;32m<ipython-input-12-7bc711244e6e>\u001b[0m in \u001b[0;36m<module>\u001b[1;34m\u001b[0m\n\u001b[0;32m      8\u001b[0m     \u001b[0mcomplete_documents\u001b[0m\u001b[1;33m(\u001b[0m\u001b[0mapplication\u001b[0m\u001b[1;33m,\u001b[0m \u001b[0mPRODUCT\u001b[0m\u001b[1;33m)\u001b[0m\u001b[1;33m\u001b[0m\u001b[1;33m\u001b[0m\u001b[0m\n\u001b[0;32m      9\u001b[0m \u001b[1;32melse\u001b[0m\u001b[1;33m:\u001b[0m\u001b[1;33m\u001b[0m\u001b[1;33m\u001b[0m\u001b[0m\n\u001b[1;32m---> 10\u001b[1;33m     \u001b[0mmissing_documents\u001b[0m\u001b[1;33m(\u001b[0m\u001b[0mapplication\u001b[0m\u001b[1;33m)\u001b[0m\u001b[1;33m\u001b[0m\u001b[1;33m\u001b[0m\u001b[0m\n\u001b[0m",
      "\u001b[1;32m~\\zeb.rolfes.schierenbeck.associates gmbh\\K�hnel, Christopher - Digitalisierung Antragseingang\\3_Prototyp\\app\\inform\\applicant.py\u001b[0m in \u001b[0;36mmissing_documents\u001b[1;34m(application)\u001b[0m\n\u001b[0;32m     12\u001b[0m     \u001b[0mmissing\u001b[0m \u001b[1;33m=\u001b[0m \u001b[1;33m[\u001b[0m\u001b[0mname\u001b[0m \u001b[1;32mfor\u001b[0m \u001b[0mname\u001b[0m\u001b[1;33m,\u001b[0m \u001b[0mdocument\u001b[0m \u001b[1;32min\u001b[0m \u001b[0mapplication\u001b[0m\u001b[1;33m.\u001b[0m\u001b[0mitems\u001b[0m\u001b[1;33m(\u001b[0m\u001b[1;33m)\u001b[0m \u001b[1;32mif\u001b[0m \u001b[0mdocument\u001b[0m \u001b[1;32mis\u001b[0m \u001b[1;32mNone\u001b[0m\u001b[1;33m]\u001b[0m\u001b[1;33m\u001b[0m\u001b[1;33m\u001b[0m\u001b[0m\n\u001b[0;32m     13\u001b[0m \u001b[1;33m\u001b[0m\u001b[0m\n\u001b[1;32m---> 14\u001b[1;33m     \u001b[0mname\u001b[0m \u001b[1;33m=\u001b[0m \u001b[0mfindall\u001b[0m\u001b[1;33m(\u001b[0m\u001b[1;34m'Vor- und Zuname (.*?)\\n'\u001b[0m\u001b[1;33m,\u001b[0m \u001b[0mapplication\u001b[0m\u001b[1;33m[\u001b[0m\u001b[1;34m'Selbstauskunft'\u001b[0m\u001b[1;33m]\u001b[0m\u001b[1;33m.\u001b[0m\u001b[0mtext\u001b[0m\u001b[1;33m)\u001b[0m\u001b[1;33m[\u001b[0m\u001b[1;36m0\u001b[0m\u001b[1;33m]\u001b[0m\u001b[1;33m\u001b[0m\u001b[1;33m\u001b[0m\u001b[0m\n\u001b[0m\u001b[0;32m     15\u001b[0m     \u001b[0mgender\u001b[0m \u001b[1;33m=\u001b[0m \u001b[0mget_gender\u001b[0m\u001b[1;33m(\u001b[0m\u001b[0mname\u001b[0m\u001b[1;33m)\u001b[0m\u001b[1;33m\u001b[0m\u001b[1;33m\u001b[0m\u001b[0m\n\u001b[0;32m     16\u001b[0m \u001b[1;33m\u001b[0m\u001b[0m\n",
      "\u001b[1;31mAttributeError\u001b[0m: 'dict' object has no attribute 'text'"
     ]
    }
   ],
   "source": [
    "from app.decide.document import all_documents, map_to_application\n",
    "from app.inform.applicant import missing_documents\n",
    "from app.inform.system import complete_documents\n",
    "\n",
    "# Ordne übermittelte Dokumente den für den Antrag geforderten Dokumenten zu\n",
    "application = map_to_application(documents, product)\n",
    "\n",
    "# Wenn alle geforderten Dokumente übermittelt\n",
    "if all_documents(application):\n",
    "    # Systeminformation, wenn alle Dokumente vorhanden\n",
    "    complete_documents(application, product)\n",
    "\n",
    "# Ansonsten\n",
    "else:\n",
    "    # Kundeninformation, wenn Dokumente fehlen\n",
    "    missing_documents(application)\n"
   ]
  },
  {
   "cell_type": "code",
   "execution_count": null,
   "metadata": {
    "scrolled": false
   },
   "outputs": [],
   "source": [
    "from app.inform.applicant import show_documents\n",
    "\n",
    "# Kundeninformation über die Zuordnung der Dokumente\n",
    "show_documents(application, files)\n"
   ]
  },
  {
   "cell_type": "code",
   "execution_count": null,
   "metadata": {},
   "outputs": [],
   "source": [
    "from importlib import import_module\n",
    "\n",
    "from app.inform.system import information_extracted\n",
    "\n",
    "# Jeder Dokumententyp besitzt eine Funktion zur Extraktion von Informationen\n",
    "def func(name: str):\n",
    "    module = import_module('app.extract.information')\n",
    "    return getattr(module, name)\n",
    "\n",
    "# Extrahiere für jedes übermittelte Dokumente deren Datenfelder\n",
    "information = {\n",
    "    name: func(name.lower())(document['Content']) for name, document in application.items()\n",
    "}\n",
    "\n",
    "# Systeminformation, wenn erfolgreich\n",
    "information_extracted(information)\n"
   ]
  },
  {
   "cell_type": "code",
   "execution_count": null,
   "metadata": {},
   "outputs": [],
   "source": [
    "from app.decide.document import all_information\n",
    "from app.inform.applicant import missing_information\n",
    "from app.inform.system import complete_information\n",
    "\n",
    "# Überprüfe, ob Dokumente vollständig ausgefüllt\n",
    "complete = all(all_information(document) for _, document in information.items())\n",
    "\n",
    "# Wenn alle Dokumente vollständig ausgefüllt\n",
    "if complete:\n",
    "    # Systeminformation, wenn alle Informationen vorhanden\n",
    "    complete_information(information)\n",
    "    \n",
    "# Ansonsten\n",
    "else:\n",
    "    # Kundeninformation, wenn Informationen fehlen\n",
    "    missing_information(information)\n"
   ]
  },
  {
   "cell_type": "code",
   "execution_count": null,
   "metadata": {},
   "outputs": [],
   "source": [
    "from app.decide.information import plausible_person, valid_gehaltsnachweis\n",
    "from app.inform.applicant import unplausible_information, successful_application\n",
    "\n",
    "# Überprüfe übermittelte Informationen auf Plausibilität\n",
    "mismatches = {\n",
    "    # Überprüfe Konsistenz personenbezogener Daten\n",
    "    'Person': plausible_person(information), \n",
    "    \n",
    "    # Überprüfe, ob Dokument weniger als einen Monat alt\n",
    "    'Gehaltsnachweis': valid_gehaltsnachweis(information)\n",
    "}\n",
    "\n",
    "# Wenn informationen nicht plausibel\n",
    "if any(len(mismatch) > 0 for _, mismatch in mismatches.items()):\n",
    "    # Kundeninformation, wenn Ungereimtheiten im Antrag auftauchen\n",
    "    unplausible_information(information, mismatches)\n",
    "    \n",
    "# Ansonsten\n",
    "else:\n",
    "    # Kundeninformation, wenn Antrag plausibel\n",
    "    successful_application(information, product)\n"
   ]
  }
 ],
 "metadata": {
  "kernelspec": {
   "display_name": "Python 3",
   "language": "python",
   "name": "python3"
  },
  "language_info": {
   "codemirror_mode": {
    "name": "ipython",
    "version": 3
   },
   "file_extension": ".py",
   "mimetype": "text/x-python",
   "name": "python",
   "nbconvert_exporter": "python",
   "pygments_lexer": "ipython3",
   "version": "3.6.4"
  }
 },
 "nbformat": 4,
 "nbformat_minor": 1
}
