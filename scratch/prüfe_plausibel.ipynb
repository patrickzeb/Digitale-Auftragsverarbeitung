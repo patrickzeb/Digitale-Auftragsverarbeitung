{
 "cells": [
  {
   "cell_type": "code",
   "execution_count": 9,
   "metadata": {},
   "outputs": [],
   "source": [
    " import time"
   ]
  },
  {
   "cell_type": "code",
   "execution_count": 37,
   "metadata": {},
   "outputs": [],
   "source": [
    "def get_plausibel(data:dict)-> bool:\n",
    "   \n",
    "    \n",
    "    plausibel=True\n",
    "    if not (data[\"kinderfreibetrag\"]==data[\"kinderanzahl\"]):\n",
    "        plausibel=False\n",
    "        print(\"Anzahl kinder passt nicht\")\n",
    "    \n",
    "    if not (data[\"steuerklasse\"]==3.5 and data[\"familienstand\"]==\"Verheiratet\"):\n",
    "        plausibel=False\n",
    "        print(\"Nícht verheiratet\")\n",
    "    \n",
    "    if not (data[\"steuerklasse\"]==4 and data[\"familienstand\"]==\"Verheiratet\"):\n",
    "        plausibel=False\n",
    "        print(\"Nícht verheiratet\")\n",
    "        \n",
    "    datum = data[\"datum\"]    \n",
    "    if not (time.strftime(\"%m\") in datum and time.strftime(\"%Y\") in datum):\n",
    "        plausibel=False\n",
    "        print(\"Datum liegt in der Zukunft\")\n",
    "        \n",
    "    if not (int(time.strftime(\"%m\"))-1 if int(time.strftime(\"%m\"))-1 < 0 else 12 in datum):\n",
    "        plausibel=False\n",
    "        print(\"Datum liegt mehr als einen Monat zurück\")\n",
    "        \n",
    "    \n",
    "        \n",
    "    if not (data[\"name_selbstauskunft\"]==data[\"name_einwilligung\"]):\n",
    "        plausibel=False\n",
    "        print(\"Der Name auf Selbstauskunft und Einwilligungserklährung stimmen nicht überein.\")\n",
    "        \n",
    "    if not (data[\"anschrift_selbstauskunft\"]==data[\"anschrift_einwilligung\"]):\n",
    "        plausibel=False\n",
    "        print(\"Die Anschrift auf Selbstauskunft und Einwilligungserklährung stimmen nicht überein.\")\n",
    "        \n",
    "    if not ()\n",
    "        \n",
    "        "
   ]
  },
  {
   "cell_type": "code",
   "execution_count": null,
   "metadata": {},
   "outputs": [],
   "source": []
  },
  {
   "cell_type": "code",
   "execution_count": null,
   "metadata": {},
   "outputs": [],
   "source": []
  },
  {
   "cell_type": "code",
   "execution_count": null,
   "metadata": {},
   "outputs": [],
   "source": []
  }
 ],
 "metadata": {
  "kernelspec": {
   "display_name": "Python 3",
   "language": "python",
   "name": "python3"
  },
  "language_info": {
   "codemirror_mode": {
    "name": "ipython",
    "version": 3
   },
   "file_extension": ".py",
   "mimetype": "text/x-python",
   "name": "python",
   "nbconvert_exporter": "python",
   "pygments_lexer": "ipython3",
   "version": "3.7.3"
  }
 },
 "nbformat": 4,
 "nbformat_minor": 2
}
